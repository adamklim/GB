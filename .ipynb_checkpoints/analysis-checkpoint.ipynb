{
 "cells": [
  {
   "cell_type": "markdown",
   "metadata": {},
   "source": [
    "# Rejected eCS analysis"
   ]
  },
  {
   "cell_type": "markdown",
   "metadata": {},
   "source": [
    "complete analysis of financial impact of rejected eCS, by period"
   ]
  },
  {
   "cell_type": "code",
   "execution_count": null,
   "metadata": {
    "collapsed": true
   },
   "outputs": [],
   "source": []
  },
  {
   "cell_type": "code",
   "execution_count": null,
   "metadata": {
    "collapsed": true
   },
   "outputs": [],
   "source": []
  },
  {
   "cell_type": "code",
   "execution_count": 1,
   "metadata": {
    "collapsed": true
   },
   "outputs": [],
   "source": [
    "'''\n",
    "Python code used to load data from Excel to SQL database\n",
    "'''\n",
    "\n",
    "import pandas as pd\n",
    "import sqlite3 as db\n",
    "import matplotlib.pyplot as plt\n",
    "import matplotlib.style\n",
    "import seaborn as sns\n",
    "\n",
    "\n",
    "# matplotlib and seaborn config (graphic output)\n",
    "%matplotlib inline\n",
    "%config InlineBackend.figure_format = 'retina'\n",
    "sns.set_style('whitegrid')\n",
    "sns.set_context('paper')"
   ]
  },
  {
   "cell_type": "code",
   "execution_count": 2,
   "metadata": {
    "collapsed": true
   },
   "outputs": [],
   "source": [
    "# parsing data from Excel files to pandas dataframes\n",
    "xls1 = pd.ExcelFile(\"./rejected eCS/tfshistory.xlsx\")\n",
    "xls2 = pd.ExcelFile(\"./rejected eCS/1.xlsx\")"
   ]
  },
  {
   "cell_type": "code",
   "execution_count": 5,
   "metadata": {},
   "outputs": [],
   "source": [
    "history = xls1.parse('Sheet1')"
   ]
  },
  {
   "cell_type": "code",
   "execution_count": 3,
   "metadata": {
    "collapsed": true
   },
   "outputs": [],
   "source": [
    "# create database cursor\n",
    "conn = db.connect(\"rejectedecs.db\")\n",
    "conn.text_factory = str\n",
    "c = conn.cursor()"
   ]
  },
  {
   "cell_type": "code",
   "execution_count": null,
   "metadata": {
    "collapsed": true
   },
   "outputs": [],
   "source": [
    "# create tables\n",
    "c.execute('''CREATE TABLE Booking (\n",
    "    ID INT PRIMARY KEY NOT NULL,\n",
    "    FlightStartUTC INTEGER,\n",
    "    FlightEndUTC INTEGER,\n",
    "    PriceEUR FLOAT,\n",
    "    Commission FLOAT,\n",
    "    Status TEXT,\n",
    "    VoidDate INTEGER,\n",
    "    Airline TEXT,\n",
    "    PassengerNationality TEXT,\n",
    "    CheckedIn TEXT\n",
    ");''')"
   ]
  },
  {
   "cell_type": "code",
   "execution_count": 1,
   "metadata": {},
   "outputs": [
    {
     "data": {
      "text/plain": [
       "u'Connected: None@exercise.db'"
      ]
     },
     "execution_count": 1,
     "metadata": {},
     "output_type": "execute_result"
    }
   ],
   "source": [
    "# parsing data from Excel to pandas dataframe\n",
    "xls1 = pd.ExcelFile(\"./rejected eCS/tfshistory.xlsx\")\n",
    "booking = xls.parse('Boooking')\n",
    "creditnote = xls.parse('CreditNote')\n",
    "\n",
    "# create database cursor\n",
    "conn = db.connect(\"rejectedecs.db\")\n",
    "conn.text_factory = str\n",
    "c = conn.cursor()\n",
    "\n",
    "# create tables\n",
    "c.execute('''CREATE TABLE Booking (\n",
    "    ID INT PRIMARY KEY NOT NULL,\n",
    "    FlightStartUTC INTEGER,\n",
    "    FlightEndUTC INTEGER,\n",
    "    PriceEUR FLOAT,\n",
    "    Commission FLOAT,\n",
    "    Status TEXT,\n",
    "    VoidDate INTEGER,\n",
    "    Airline TEXT,\n",
    "    PassengerNationality TEXT,\n",
    "    CheckedIn TEXT\n",
    ");''')\n",
    "\n",
    "c.execute('''CREATE TABLE CreditNote (\n",
    "CreditNoteNo INT PRIMARY KEY NOT NULL,\n",
    "Airline TEXT,\n",
    "PaymentDate TEXT,\n",
    "PeriodStart TEXT,\n",
    "PeriodEnd TEXT,\n",
    "PaymentAmount FLOAT\n",
    ");''')\n",
    "\n",
    "# load data to database\n",
    "booking.to_sql('Booking', conn, if_exists='append', index=False)\n",
    "creditnote.to_sql('CreditNote', conn, if_exists='append', index=False)\n",
    "\n",
    "# loads the SQL magic extensions\n",
    "%load_ext sql\n",
    "\n",
    "#connect database\n",
    "%sql sqlite:///exercise.db"
   ]
  }
 ],
 "metadata": {
  "anaconda-cloud": {},
  "kernelspec": {
   "display_name": "Python 3",
   "language": "python",
   "name": "python3"
  },
  "language_info": {
   "codemirror_mode": {
    "name": "ipython",
    "version": 3
   },
   "file_extension": ".py",
   "mimetype": "text/x-python",
   "name": "python",
   "nbconvert_exporter": "python",
   "pygments_lexer": "ipython3",
   "version": "3.6.2"
  }
 },
 "nbformat": 4,
 "nbformat_minor": 2
}
